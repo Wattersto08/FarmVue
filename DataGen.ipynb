{
 "cells": [
  {
   "cell_type": "code",
   "execution_count": 1,
   "id": "23e703a0-1b76-49f0-92f5-d4a7b1c3509c",
   "metadata": {},
   "outputs": [],
   "source": [
    "import folium as f \n",
    "import kml_parser_functs as kml\n",
    "import map_functs as mf \n",
    "import math as m \n",
    "import numpy as np\n",
    "import matplotlib.pyplot as plt\n",
    "from shapely.geometry import Point, Polygon\n",
    "import matrixmath as mm \n",
    "import pandas as pd\n",
    "import random as r\n",
    "import datetime \n",
    "import utils"
   ]
  },
  {
   "cell_type": "code",
   "execution_count": 2,
   "id": "e4c46fee-d958-4914-a6fc-5d50fb6a90ae",
   "metadata": {},
   "outputs": [],
   "source": [
    "filename = 'GoogleEarth_KML/Bodium_Vineyard.kml'\n",
    "\n",
    "name,lookat, features = kml.parse_KML(filename)\n",
    "\n",
    "opPath = 'SampleData/'+name +'/'"
   ]
  },
  {
   "cell_type": "code",
   "execution_count": 16,
   "id": "45af755d-6895-4534-b9aa-33d0dfe3d0ce",
   "metadata": {},
   "outputs": [
    {
     "name": "stdout",
     "output_type": "stream",
     "text": [
      "     Generating Data for Bodium_Vineyard\n",
      "\n",
      "\tGenerating Data for 2023-01-01\n",
      "\tGenerating Data for 2023-01-02\n",
      "\tGenerating Data for 2023-01-03\n",
      "\tGenerating Data for 2023-01-04\n",
      "\tGenerating Data for 2023-01-05\n",
      "\tGenerating Data for 2023-01-06\n",
      "\tGenerating Data for 2023-01-07\n",
      "\tGenerating Data for 2023-01-08\n",
      "\tGenerating Data for 2023-01-09\n",
      "\tGenerating Data for 2023-01-10\n",
      "\n",
      "\t    * * * Complete! * * * \n"
     ]
    }
   ],
   "source": [
    "\n",
    "# Define the start and end dates\n",
    "start_date = datetime.datetime(2023, 1, 1)\n",
    "end_date = datetime.datetime(2023, 1, 10)\n",
    "\n",
    "utils.spoofDataSets(start_date,end_date,name,opPath,features[0])"
   ]
  },
  {
   "cell_type": "code",
   "execution_count": null,
   "id": "d31a4abf-19dc-417d-88e3-9b77e0b7017d",
   "metadata": {},
   "outputs": [],
   "source": []
  }
 ],
 "metadata": {
  "kernelspec": {
   "display_name": "Python [conda env:base] *",
   "language": "python",
   "name": "conda-base-py"
  },
  "language_info": {
   "codemirror_mode": {
    "name": "ipython",
    "version": 3
   },
   "file_extension": ".py",
   "mimetype": "text/x-python",
   "name": "python",
   "nbconvert_exporter": "python",
   "pygments_lexer": "ipython3",
   "version": "3.12.7"
  }
 },
 "nbformat": 4,
 "nbformat_minor": 5
}
