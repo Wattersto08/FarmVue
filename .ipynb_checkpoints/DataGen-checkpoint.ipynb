{
 "cells": [
  {
   "cell_type": "code",
   "execution_count": 75,
   "id": "23e703a0-1b76-49f0-92f5-d4a7b1c3509c",
   "metadata": {},
   "outputs": [],
   "source": [
    "import folium as f \n",
    "import kml_parser_functs as kml\n",
    "import map_functs as mf \n",
    "import math as m \n",
    "import numpy as np\n",
    "import matplotlib.pyplot as plt\n",
    "from shapely.geometry import Point, Polygon\n",
    "import matrixmath as mm \n",
    "import pandas as pd\n",
    "import random as r\n",
    "import datetime \n",
    "import utils"
   ]
  },
  {
   "cell_type": "code",
   "execution_count": 91,
   "id": "e4c46fee-d958-4914-a6fc-5d50fb6a90ae",
   "metadata": {},
   "outputs": [],
   "source": [
    "filename = 'GoogleEarth_KML/Bodium_Vineyard.kml'\n",
    "opPath = 'SampleData/'"
   ]
  },
  {
   "cell_type": "code",
   "execution_count": 12,
   "id": "39cca030-4cab-45e2-af55-7e108a54b5a5",
   "metadata": {},
   "outputs": [],
   "source": [
    "name,lookat, features = kml.parse_KML(filename)"
   ]
  },
  {
   "cell_type": "code",
   "execution_count": 52,
   "id": "b34eb7e8-ba49-401d-8502-32c632306bad",
   "metadata": {},
   "outputs": [],
   "source": [
    "datapoints_list = pd.DataFrame(columns=['fieldID', 'ID', 'Coord'])\n",
    "\n",
    "for feature in features: \n",
    "    datapoints_list = pd.concat([datapoints_list,feature.sensorPoints])\n",
    "\n",
    "\n",
    "ESCA = []\n",
    "BlackLeaf = []\n",
    "Humidity = []\n",
    "\n",
    "for i in range(len(datapoints_list)):\n",
    "    ESCA.append(r.randint(0,100)/100)\n",
    "    BlackLeaf.append(r.randint(0,100)/100)\n",
    "    Humidity.append(r.randint(0,100)/100)\n",
    "\n",
    "datapoints_list['ESCA'] = ESCA\n",
    "datapoints_list['BlackLeaf'] = BlackLeaf\n",
    "datapoints_list['Humidity'] = Humidity"
   ]
  },
  {
   "cell_type": "code",
   "execution_count": 84,
   "id": "3c4d9944-70cd-4b35-ba4f-251111455200",
   "metadata": {},
   "outputs": [],
   "source": [
    "datapoints_list.to_csv('SampleData/test.csv')"
   ]
  },
  {
   "cell_type": "code",
   "execution_count": 89,
   "id": "45af755d-6895-4534-b9aa-33d0dfe3d0ce",
   "metadata": {},
   "outputs": [],
   "source": [
    "\n",
    "# Define the start and end dates\n",
    "start_date = datetime.datetime(2023, 1, 1)\n",
    "end_date = datetime.datetime(2023, 1, 10)\n",
    "\n",
    "# Generate the list of date strings\n",
    "date_strings = utils.generate_date_strings(start_date, end_date)\n",
    "\n",
    "for dt in date_strings:\n",
    "    filename = (dt+'.csv')"
   ]
  }
 ],
 "metadata": {
  "kernelspec": {
   "display_name": "Python [conda env:base] *",
   "language": "python",
   "name": "conda-base-py"
  },
  "language_info": {
   "codemirror_mode": {
    "name": "ipython",
    "version": 3
   },
   "file_extension": ".py",
   "mimetype": "text/x-python",
   "name": "python",
   "nbconvert_exporter": "python",
   "pygments_lexer": "ipython3",
   "version": "3.12.7"
  }
 },
 "nbformat": 4,
 "nbformat_minor": 5
}
